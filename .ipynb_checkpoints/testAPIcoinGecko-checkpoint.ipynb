{
 "cells": [
  {
   "cell_type": "code",
   "execution_count": 1,
   "id": "83301144",
   "metadata": {},
   "outputs": [
    {
     "name": "stdout",
     "output_type": "stream",
     "text": [
      "Collecting pycoingecko\n",
      "  Downloading pycoingecko-3.1.0-py3-none-any.whl (8.8 kB)\n",
      "Requirement already satisfied: requests in /Users/imac/opt/anaconda3/lib/python3.8/site-packages (from pycoingecko) (2.25.1)\n",
      "Requirement already satisfied: urllib3<1.27,>=1.21.1 in /Users/imac/opt/anaconda3/lib/python3.8/site-packages (from requests->pycoingecko) (1.26.4)\n",
      "Requirement already satisfied: idna<3,>=2.5 in /Users/imac/opt/anaconda3/lib/python3.8/site-packages (from requests->pycoingecko) (2.10)\n",
      "Requirement already satisfied: certifi>=2017.4.17 in /Users/imac/opt/anaconda3/lib/python3.8/site-packages (from requests->pycoingecko) (2020.12.5)\n",
      "Requirement already satisfied: chardet<5,>=3.0.2 in /Users/imac/opt/anaconda3/lib/python3.8/site-packages (from requests->pycoingecko) (4.0.0)\n",
      "Installing collected packages: pycoingecko\n",
      "Successfully installed pycoingecko-3.1.0\n"
     ]
    }
   ],
   "source": [
    "!pip install pycoingecko"
   ]
  },
  {
   "cell_type": "code",
   "execution_count": 13,
   "id": "a9dfdcb4",
   "metadata": {},
   "outputs": [],
   "source": [
    "from pycoingecko import CoinGeckoAPI\n",
    "import pandas as pd\n",
    "cg = CoinGeckoAPI()"
   ]
  },
  {
   "cell_type": "code",
   "execution_count": 37,
   "id": "f552db21",
   "metadata": {},
   "outputs": [],
   "source": [
    "etherData = cg.get_coin_market_chart_by_id(id = \"ethereum\", vs_currency=\"usd\", days=10)"
   ]
  },
  {
   "cell_type": "code",
   "execution_count": 12,
   "id": "453fa6ff",
   "metadata": {},
   "outputs": [
    {
     "data": {
      "text/plain": [
       "dict_keys(['prices', 'market_caps', 'total_volumes'])"
      ]
     },
     "execution_count": 12,
     "metadata": {},
     "output_type": "execute_result"
    }
   ],
   "source": [
    "etherData.keys()"
   ]
  },
  {
   "cell_type": "code",
   "execution_count": 38,
   "id": "5515166c",
   "metadata": {},
   "outputs": [],
   "source": [
    "ethPrecio = etherData[\"prices\"]"
   ]
  },
  {
   "cell_type": "code",
   "execution_count": 39,
   "id": "830ddaf7",
   "metadata": {},
   "outputs": [],
   "source": [
    "df = pd.DataFrame(ethPrecio, columns=[\"timeStamp\", \"usd\"])"
   ]
  },
  {
   "cell_type": "code",
   "execution_count": 40,
   "id": "01e74576",
   "metadata": {},
   "outputs": [],
   "source": [
    "df[\"Date\"] = pd.to_datetime(df[\"timeStamp\"], unit=\"ms\")"
   ]
  },
  {
   "cell_type": "code",
   "execution_count": 44,
   "id": "10542821",
   "metadata": {},
   "outputs": [
    {
     "ename": "NameError",
     "evalue": "name 'null' is not defined",
     "output_type": "error",
     "traceback": [
      "\u001b[0;31m---------------------------------------------------------------------------\u001b[0m",
      "\u001b[0;31mNameError\u001b[0m                                 Traceback (most recent call last)",
      "\u001b[0;32m<ipython-input-44-aa96293bc00d>\u001b[0m in \u001b[0;36m<module>\u001b[0;34m\u001b[0m\n\u001b[0;32m----> 1\u001b[0;31m \u001b[0mdf\u001b[0m\u001b[0;34m[\u001b[0m\u001b[0;34m\"timeStamp\"\u001b[0m\u001b[0;34m]\u001b[0m \u001b[0;34m=\u001b[0m \u001b[0mnull\u001b[0m\u001b[0;34m\u001b[0m\u001b[0;34m\u001b[0m\u001b[0m\n\u001b[0m",
      "\u001b[0;31mNameError\u001b[0m: name 'null' is not defined"
     ]
    }
   ],
   "source": []
  }
 ],
 "metadata": {
  "kernelspec": {
   "display_name": "Python 3",
   "language": "python",
   "name": "python3"
  },
  "language_info": {
   "codemirror_mode": {
    "name": "ipython",
    "version": 3
   },
   "file_extension": ".py",
   "mimetype": "text/x-python",
   "name": "python",
   "nbconvert_exporter": "python",
   "pygments_lexer": "ipython3",
   "version": "3.8.8"
  }
 },
 "nbformat": 4,
 "nbformat_minor": 5
}
