{
 "cells": [
  {
   "cell_type": "markdown",
   "metadata": {},
   "source": [
    "<p style=\"text-align:center\">\n",
    "    <a href=\"https://skills.network/?utm_medium=Exinfluencer&utm_source=Exinfluencer&utm_content=000026UJ&utm_term=10006555&utm_id=NA-SkillsNetwork-Channel-SkillsNetworkCoursesIBMDeveloperSkillsNetworkPY0221ENSkillsNetwork23455645-2022-01-01\" target=\"_blank\">\n",
    "    <img src=\"https://cf-courses-data.s3.us.cloud-object-storage.appdomain.cloud/assets/logos/SN_web_lightmode.png\" width=\"200\" alt=\"Skills Network Logo\"  />\n",
    "    </a>\n",
    "</p>\n"
   ]
  },
  {
   "cell_type": "markdown",
   "metadata": {},
   "source": [
    "# Peer Review Assignment - Data Engineer - Extract API Data\n"
   ]
  },
  {
   "cell_type": "markdown",
   "metadata": {},
   "source": [
    "Estimated time needed: **20** minutes\n"
   ]
  },
  {
   "cell_type": "markdown",
   "metadata": {},
   "source": [
    "## Objectives\n",
    "\n",
    "In this part you will:\n",
    "\n",
    "*   Collect exchange rate data using an API\n",
    "*   Store the data as a CSV\n"
   ]
  },
  {
   "cell_type": "markdown",
   "metadata": {},
   "source": [
    "For this lab, we are going to be using Python and several Python libraries. Some of these libraries might be installed in your lab environment or in SN Labs. Others may need to be installed by you. The cells below will install these libraries when executed.\n"
   ]
  },
  {
   "cell_type": "code",
   "execution_count": null,
   "metadata": {},
   "outputs": [],
   "source": [
    "#!mamba install pandas==1.3.3 -y\n",
    "#!mamba install requests==2.26.0 -y"
   ]
  },
  {
   "cell_type": "markdown",
   "metadata": {},
   "source": [
    "## Imports\n",
    "\n",
    "Import any additional libraries you may need here.\n"
   ]
  },
  {
   "cell_type": "code",
   "execution_count": 1,
   "metadata": {},
   "outputs": [],
   "source": [
    "import requests\n",
    "import pandas as pd"
   ]
  },
  {
   "cell_type": "markdown",
   "metadata": {},
   "source": [
    "## Extract Data Using an API\n"
   ]
  },
  {
   "cell_type": "markdown",
   "metadata": {},
   "source": [
    "Using ExchangeRate-API we will extract currency exchange rate data. Use the below steps to get the access key and to get the data.\n",
    "\n",
    "1.  Open the url : [https://exchangeratesapi.io/](https://exchangeratesapi.io/?utm_medium=Exinfluencer&utm_source=Exinfluencer&utm_content=000026UJ&utm_term=10006555&utm_id=NA-SkillsNetwork-Channel-SkillsNetworkCoursesIBMDeveloperSkillsNetworkPY0221ENSkillsNetwork23455645-2022-01-01) and click on **Get Free API Key**.\n",
    "2.  Subscribe for Free plan and Sign-in with the Google Account.\n",
    "3.  Once the account is created you will be redirected to [https://apilayer.com](https://apilayer.com/?utm_medium=Exinfluencer&utm_source=Exinfluencer&utm_content=000026UJ&utm_term=10006555&utm_id=NA-SkillsNetwork-Channel-SkillsNetworkCoursesIBMDeveloperSkillsNetworkPY0221ENSkillsNetwork23455645-2022-01-01) website.\n",
    "4.  Now, click on the **user icon** and click **Account** as shown below:\n",
    "\n",
    "<img src=\"https://cf-courses-data.s3.us.cloud-object-storage.appdomain.cloud/IBMDeveloperSkillsNetwork-PY0221EN-SkillsNetwork/labs/module%206/Final%20Assignment/Images/account.png\"/>\n",
    "\n",
    "3.  Scroll down and you will get the API Key section. Copy the API key and use in the url in Question 1.\n"
   ]
  },
  {
   "cell_type": "markdown",
   "metadata": {},
   "source": [
    "### Call the API\n",
    "\n",
    "<b> Question 1</b> Using the `requests` library call the endpoint given above and save the text, remember the first few characters of the output:\n"
   ]
  },
  {
   "cell_type": "code",
   "execution_count": 2,
   "metadata": {},
   "outputs": [],
   "source": [
    "# Write your code here\n",
    "url = \"https://api.apilayer.com/exchangerates_data/latest?base=EUR&apikey=2uk88oqjmMMrPDUjSepH1TVPrpdRJ3Uf\" #Make sure to change ******* to your API key."
   ]
  },
  {
   "cell_type": "markdown",
   "metadata": {},
   "source": [
    "### Save as DataFrame\n",
    "\n",
    "<b> Question 2</b>  Using the data gathered turn it into a `pandas` dataframe. The dataframe should have the Currency as the index and `Rate` as their columns. Make sure to drop unnecessary columns.\n"
   ]
  },
  {
   "cell_type": "code",
   "execution_count": 6,
   "metadata": {},
   "outputs": [
    {
     "data": {
      "text/plain": [
       "'{\\n    \"success\": true,\\n    \"timestamp\": 1673982363,\\n    \"base\": \"EUR\",\\n    \"date\": \"2023-01-17\",\\n    \"rates\": {\\n        \"AED\": 3.965256,\\n        \"AFN\": 96.619651,\\n        \"ALL\": 116.42825,\\n        \"AMD\": 428.404337,\\n        \"ANG\": 1.947312,\\n        \"AOA\": 543.614615,\\n        \"ARS\": 197.03813,\\n        \"AUD\": 1.545944,\\n        \"AWG\": 1.945871,\\n        \"AZN\": 1.773134,\\n        \"BAM\": 1.950933,\\n        \"BBD\": 2.181614,\\n        \"BDT\": 112.208671,\\n        \"BGN\": 1.95647,\\n        \"BHD\": 0.40694,\\n        \"BIF\": 2224.932568,\\n        \"BMD\": 1.07954,\\n        \"BND\": 1.429013,\\n        \"BOB\": 7.466125,\\n        \"BRL\": 5.516558,\\n        \"BSD\": 1.080483,\\n        \"BTC\": 5.0598253e-05,\\n        \"BTN\": 88.341069,\\n        \"BWP\": 13.764414,\\n        \"BYN\": 2.727254,\\n        \"BYR\": 21158.989973,\\n        \"BZD\": 2.177923,\\n        \"CAD\": 1.445963,\\n        \"CDF\": 2191.466927,\\n        \"CHF\": 0.995801,\\n        \"CLF\": 0.031909,\\n        \"CLP\": 880.474978,\\n        \"CNY\": 7.3127,\\n        \"COP\": 5098.247839,\\n        \"CRC\": 616.878749,\\n        \"CUC\": 1.07954,\\n        \"CUP\": 28.607818,\\n        \"CVE\": 111.030535,\\n        \"CZK\": 23.940428,\\n        \"DJF\": 191.855906,\\n        \"DKK\": 7.437926,\\n        \"DOP\": 60.889543,\\n        \"DZD\": 146.949045,\\n        \"EGP\": 31.929454,\\n        \"ERN\": 16.193105,\\n        \"ETB\": 57.916875,\\n        \"EUR\": 1,\\n        \"FJD\": 2.340821,\\n        \"FKP\": 0.884299,\\n        \"GBP\": 0.880322,\\n        \"GEL\": 2.88773,\\n        \"GGP\": 0.884299,\\n        \"GHS\": 13.224322,\\n        \"GIP\": 0.884299,\\n        \"GMD\": 67.255523,\\n        \"GNF\": 9472.965923,\\n        \"GTQ\": 8.479117,\\n        \"GYD\": 226.052598,\\n        \"HKD\": 8.439361,\\n        \"HNL\": 26.594481,\\n        \"HRK\": 7.602342,\\n        \"HTG\": 159.911615,\\n        \"HUF\": 396.439745,\\n        \"IDR\": 16367.936124,\\n        \"ILS\": 3.674318,\\n        \"IMP\": 0.884299,\\n        \"INR\": 88.067712,\\n        \"IQD\": 1577.208385,\\n        \"IRR\": 45178.762393,\\n        \"ISK\": 154.633539,\\n        \"JEP\": 0.884299,\\n        \"JMD\": 164.936003,\\n        \"JOD\": 0.765716,\\n        \"JPY\": 138.64533,\\n        \"KES\": 133.917097,\\n        \"KGS\": 92.49504,\\n        \"KHR\": 4447.705716,\\n        \"KMF\": 492.77655,\\n        \"KPW\": 971.535415,\\n        \"KRW\": 1335.165056,\\n        \"KWD\": 0.329594,\\n        \"KYD\": 0.900444,\\n        \"KZT\": 501.378296,\\n        \"LAK\": 18190.254229,\\n        \"LBP\": 1643.060319,\\n        \"LKR\": 397.079452,\\n        \"LRD\": 167.706747,\\n        \"LSL\": 18.43861,\\n        \"LTL\": 3.187601,\\n        \"LVL\": 0.653004,\\n        \"LYD\": 5.144047,\\n        \"MAD\": 10.983785,\\n        \"MDL\": 20.528981,\\n        \"MGA\": 4706.795431,\\n        \"MKD\": 61.457891,\\n        \"MMK\": 2269.024854,\\n        \"MNT\": 3728.634219,\\n        \"MOP\": 8.704791,\\n        \"MRO\": 385.395703,\\n        \"MUR\": 47.826405,\\n        \"MVR\": 16.620149,\\n        \"MWK\": 560.28114,\\n        \"MXN\": 20.177677,\\n        \"MYR\": 4.670635,\\n        \"MZN\": 68.907361,\\n        \"NAD\": 18.438243,\\n        \"NGN\": 489.658221,\\n        \"NIO\": 39.251959,\\n        \"NOK\": 10.662155,\\n        \"NPR\": 141.34587,\\n        \"NZD\": 1.680855,\\n        \"OMR\": 0.415089,\\n        \"PAB\": 1.080483,\\n        \"PEN\": 4.131943,\\n        \"PGK\": 3.805409,\\n        \"PHP\": 58.9931,\\n        \"PKR\": 246.917805,\\n        \"PLN\": 4.6974,\\n        \"PYG\": 7985.456142,\\n        \"QAR\": 3.930591,\\n        \"RON\": 4.932202,\\n        \"RSD\": 117.349772,\\n        \"RUB\": 74.364136,\\n        \"RWF\": 1159.426287,\\n        \"SAR\": 4.054508,\\n        \"SBD\": 8.92243,\\n        \"SCR\": 15.48722,\\n        \"SDG\": 628.292336,\\n        \"SEK\": 11.238533,\\n        \"SGD\": 1.425835,\\n        \"SHP\": 1.486959,\\n        \"SLE\": 20.629643,\\n        \"SLL\": 20673.196636,\\n        \"SOS\": 614.797208,\\n        \"SRD\": 34.275864,\\n        \"STD\": 22344.304725,\\n        \"SVC\": 9.453833,\\n        \"SYP\": 2711.799141,\\n        \"SZL\": 18.439174,\\n        \"THB\": 35.657634,\\n        \"TJS\": 11.036586,\\n        \"TMT\": 3.778391,\\n        \"TND\": 3.300695,\\n        \"TOP\": 2.512742,\\n        \"TRY\": 20.286268,\\n        \"TTD\": 7.337848,\\n        \"TWD\": 32.669593,\\n        \"TZS\": 2525.092282,\\n        \"UAH\": 39.708961,\\n        \"UGX\": 3976.201138,\\n        \"USD\": 1.07954,\\n        \"UYU\": 42.852438,\\n        \"UZS\": 12220.396443,\\n        \"VEF\": 2076485.837537,\\n        \"VES\": 21.201304,\\n        \"VND\": 25295.788421,\\n        \"VUV\": 125.830716,\\n        \"WST\": 2.895034,\\n        \"XAF\": 654.31464,\\n        \"XAG\": 0.045177,\\n        \"XAU\": 0.000567,\\n        \"XCD\": 2.917512,\\n        \"XDR\": 0.801289,\\n        \"XOF\": 653.670315,\\n        \"XPF\": 119.855996,\\n        \"YER\": 270.154762,\\n        \"ZAR\": 18.418899,\\n        \"ZMK\": 9717.160441,\\n        \"ZMW\": 19.967189,\\n        \"ZWL\": 347.611538\\n    }\\n}\\n'"
      ]
     },
     "execution_count": 6,
     "metadata": {},
     "output_type": "execute_result"
    }
   ],
   "source": [
    "# Turn the data into a dataframe\n",
    "r = requests.get(url)"
   ]
  },
  {
   "cell_type": "code",
   "execution_count": 27,
   "metadata": {},
   "outputs": [],
   "source": [
    "# Drop unnescessary columns\n",
    "dataframe = pd.read_json(r.text)\n",
    "dataframe.drop(['success', \"timestamp\"], inplace=True, axis=1)"
   ]
  },
  {
   "cell_type": "code",
   "execution_count": 30,
   "metadata": {},
   "outputs": [
    {
     "data": {
      "text/html": [
       "<div>\n",
       "<style scoped>\n",
       "    .dataframe tbody tr th:only-of-type {\n",
       "        vertical-align: middle;\n",
       "    }\n",
       "\n",
       "    .dataframe tbody tr th {\n",
       "        vertical-align: top;\n",
       "    }\n",
       "\n",
       "    .dataframe thead th {\n",
       "        text-align: right;\n",
       "    }\n",
       "</style>\n",
       "<table border=\"1\" class=\"dataframe\">\n",
       "  <thead>\n",
       "    <tr style=\"text-align: right;\">\n",
       "      <th></th>\n",
       "      <th>base</th>\n",
       "      <th>date</th>\n",
       "      <th>rates</th>\n",
       "      <th>currency</th>\n",
       "    </tr>\n",
       "  </thead>\n",
       "  <tbody>\n",
       "    <tr>\n",
       "      <th>USD</th>\n",
       "      <td>EUR</td>\n",
       "      <td>2023-01-17</td>\n",
       "      <td>1.07954</td>\n",
       "      <td>USD</td>\n",
       "    </tr>\n",
       "  </tbody>\n",
       "</table>\n",
       "</div>"
      ],
      "text/plain": [
       "    base       date    rates currency\n",
       "USD  EUR 2023-01-17  1.07954      USD"
      ]
     },
     "execution_count": 30,
     "metadata": {},
     "output_type": "execute_result"
    }
   ],
   "source": [
    "dataframe[\"currency\"] = dataframe[\"rates\"].index\n",
    "dataframe[dataframe[\"currency\"]==\"USD\"]"
   ]
  },
  {
   "cell_type": "code",
   "execution_count": 32,
   "metadata": {},
   "outputs": [
    {
     "data": {
      "text/html": [
       "<div>\n",
       "<style scoped>\n",
       "    .dataframe tbody tr th:only-of-type {\n",
       "        vertical-align: middle;\n",
       "    }\n",
       "\n",
       "    .dataframe tbody tr th {\n",
       "        vertical-align: top;\n",
       "    }\n",
       "\n",
       "    .dataframe thead th {\n",
       "        text-align: right;\n",
       "    }\n",
       "</style>\n",
       "<table border=\"1\" class=\"dataframe\">\n",
       "  <thead>\n",
       "    <tr style=\"text-align: right;\">\n",
       "      <th></th>\n",
       "      <th>base</th>\n",
       "      <th>date</th>\n",
       "      <th>rates</th>\n",
       "      <th>currency</th>\n",
       "    </tr>\n",
       "  </thead>\n",
       "  <tbody>\n",
       "    <tr>\n",
       "      <th>AED</th>\n",
       "      <td>EUR</td>\n",
       "      <td>2023-01-17</td>\n",
       "      <td>3.965256</td>\n",
       "      <td>AED</td>\n",
       "    </tr>\n",
       "    <tr>\n",
       "      <th>AFN</th>\n",
       "      <td>EUR</td>\n",
       "      <td>2023-01-17</td>\n",
       "      <td>96.619651</td>\n",
       "      <td>AFN</td>\n",
       "    </tr>\n",
       "    <tr>\n",
       "      <th>ALL</th>\n",
       "      <td>EUR</td>\n",
       "      <td>2023-01-17</td>\n",
       "      <td>116.428250</td>\n",
       "      <td>ALL</td>\n",
       "    </tr>\n",
       "    <tr>\n",
       "      <th>AMD</th>\n",
       "      <td>EUR</td>\n",
       "      <td>2023-01-17</td>\n",
       "      <td>428.404337</td>\n",
       "      <td>AMD</td>\n",
       "    </tr>\n",
       "    <tr>\n",
       "      <th>ANG</th>\n",
       "      <td>EUR</td>\n",
       "      <td>2023-01-17</td>\n",
       "      <td>1.947312</td>\n",
       "      <td>ANG</td>\n",
       "    </tr>\n",
       "    <tr>\n",
       "      <th>...</th>\n",
       "      <td>...</td>\n",
       "      <td>...</td>\n",
       "      <td>...</td>\n",
       "      <td>...</td>\n",
       "    </tr>\n",
       "    <tr>\n",
       "      <th>YER</th>\n",
       "      <td>EUR</td>\n",
       "      <td>2023-01-17</td>\n",
       "      <td>270.154762</td>\n",
       "      <td>YER</td>\n",
       "    </tr>\n",
       "    <tr>\n",
       "      <th>ZAR</th>\n",
       "      <td>EUR</td>\n",
       "      <td>2023-01-17</td>\n",
       "      <td>18.418899</td>\n",
       "      <td>ZAR</td>\n",
       "    </tr>\n",
       "    <tr>\n",
       "      <th>ZMK</th>\n",
       "      <td>EUR</td>\n",
       "      <td>2023-01-17</td>\n",
       "      <td>9717.160441</td>\n",
       "      <td>ZMK</td>\n",
       "    </tr>\n",
       "    <tr>\n",
       "      <th>ZMW</th>\n",
       "      <td>EUR</td>\n",
       "      <td>2023-01-17</td>\n",
       "      <td>19.967189</td>\n",
       "      <td>ZMW</td>\n",
       "    </tr>\n",
       "    <tr>\n",
       "      <th>ZWL</th>\n",
       "      <td>EUR</td>\n",
       "      <td>2023-01-17</td>\n",
       "      <td>347.611538</td>\n",
       "      <td>ZWL</td>\n",
       "    </tr>\n",
       "  </tbody>\n",
       "</table>\n",
       "<p>170 rows × 4 columns</p>\n",
       "</div>"
      ],
      "text/plain": [
       "    base       date        rates currency\n",
       "AED  EUR 2023-01-17     3.965256      AED\n",
       "AFN  EUR 2023-01-17    96.619651      AFN\n",
       "ALL  EUR 2023-01-17   116.428250      ALL\n",
       "AMD  EUR 2023-01-17   428.404337      AMD\n",
       "ANG  EUR 2023-01-17     1.947312      ANG\n",
       "..   ...        ...          ...      ...\n",
       "YER  EUR 2023-01-17   270.154762      YER\n",
       "ZAR  EUR 2023-01-17    18.418899      ZAR\n",
       "ZMK  EUR 2023-01-17  9717.160441      ZMK\n",
       "ZMW  EUR 2023-01-17    19.967189      ZMW\n",
       "ZWL  EUR 2023-01-17   347.611538      ZWL\n",
       "\n",
       "[170 rows x 4 columns]"
      ]
     },
     "execution_count": 32,
     "metadata": {},
     "output_type": "execute_result"
    }
   ],
   "source": [
    "dataframe"
   ]
  },
  {
   "cell_type": "markdown",
   "metadata": {},
   "source": [
    "### Load the Data\n",
    "\n",
    "Using the dataframe save it as a CSV names `exchange_rates_1.csv`.\n"
   ]
  },
  {
   "cell_type": "code",
   "execution_count": 31,
   "metadata": {},
   "outputs": [],
   "source": [
    "# Save the Dataframe\n",
    "dataframe.to_csv(\"exchange_rates_1.csv\")"
   ]
  },
  {
   "cell_type": "markdown",
   "metadata": {},
   "source": [
    "Your CSV should be in this format with more currencies\n",
    "\n",
    "|     | Rates      |\n",
    "| --- | ---------- |\n",
    "| AED | 4.398618   |\n",
    "| AFN | 92.917693  |\n",
    "| ALL | 123.099093 |\n",
    "| AMD | 621.935674 |\n",
    "| ANG | 2.149648   |\n"
   ]
  },
  {
   "cell_type": "markdown",
   "metadata": {},
   "source": [
    "## Authors\n"
   ]
  },
  {
   "cell_type": "markdown",
   "metadata": {},
   "source": [
    "Ramesh Sannareddy, Joseph Santarcangelo and Azim Hirjani\n"
   ]
  },
  {
   "cell_type": "markdown",
   "metadata": {},
   "source": [
    "### Other Contributors\n"
   ]
  },
  {
   "cell_type": "markdown",
   "metadata": {},
   "source": [
    "Rav Ahuja\n"
   ]
  },
  {
   "cell_type": "markdown",
   "metadata": {},
   "source": [
    "## Change Log\n"
   ]
  },
  {
   "cell_type": "markdown",
   "metadata": {},
   "source": [
    "| Date (YYYY-MM-DD) | Version | Changed By        | Change Description                              |\n",
    "| ----------------- | ------- | ----------------- | ----------------------------------------------- |\n",
    "| 2022-05-06        | 0.3     | Malika            | Updated instructions to get the API and the url |\n",
    "| 2021-04-15        | 0.2     | Malika            | Updated the lab from USD to EUR                 |\n",
    "| 2020-11-25        | 0.1     | Ramesh Sannareddy | Created initial version of the lab              |\n"
   ]
  },
  {
   "cell_type": "markdown",
   "metadata": {},
   "source": [
    "Copyright © 2020 IBM Corporation. This notebook and its source code are released under the terms of the [MIT License](https://cognitiveclass.ai/mit-license?utm_medium=Exinfluencer&utm_source=Exinfluencer&utm_content=000026UJ&utm_term=10006555&utm_id=NA-SkillsNetwork-Channel-SkillsNetworkCoursesIBMDeveloperSkillsNetworkPY0221ENSkillsNetwork23455645-2022-01-01&cm_mmc=Email_Newsletter-\\_-Developer_Ed%2BTech-\\_-WW_WW-\\_-SkillsNetwork-Courses-IBM-DA0321EN-SkillsNetwork-21426264&cm_mmca1=000026UJ&cm_mmca2=10006555&cm_mmca3=M12345678&cvosrc=email.Newsletter.M12345678&cvo_campaign=000026UJ).\n"
   ]
  }
 ],
 "metadata": {
  "kernelspec": {
   "display_name": "Python 3",
   "language": "python",
   "name": "python3"
  },
  "language_info": {
   "codemirror_mode": {
    "name": "ipython",
    "version": 3
   },
   "file_extension": ".py",
   "mimetype": "text/x-python",
   "name": "python",
   "nbconvert_exporter": "python",
   "pygments_lexer": "ipython3",
   "version": "3.8.8"
  }
 },
 "nbformat": 4,
 "nbformat_minor": 4
}
