{
 "cells": [
  {
   "cell_type": "code",
   "execution_count": 6,
   "id": "b8883e8a",
   "metadata": {},
   "outputs": [],
   "source": [
    "from bs4 import BeautifulSoup\n",
    "import requests"
   ]
  },
  {
   "cell_type": "code",
   "execution_count": 9,
   "id": "411c2afd",
   "metadata": {},
   "outputs": [],
   "source": [
    "url = \"https://www.york.ac.uk/teaching/cws/wws/webpage1.html\"\n",
    "page = requests.get(url).text\n",
    "soup = BeautifulSoup(page, \"html.parser\")"
   ]
  },
  {
   "cell_type": "code",
   "execution_count": 21,
   "id": "3926ffb3",
   "metadata": {},
   "outputs": [
    {
     "data": {
      "text/plain": [
       "<a href=\"webpage2.html\">lesson two</a>"
      ]
     },
     "execution_count": 21,
     "metadata": {},
     "output_type": "execute_result"
    }
   ],
   "source": [
    "soup.a"
   ]
  },
  {
   "cell_type": "code",
   "execution_count": 13,
   "id": "49f8ebca",
   "metadata": {},
   "outputs": [],
   "source": [
    "parrafos = soup.find_all(\"p\")"
   ]
  },
  {
   "cell_type": "code",
   "execution_count": 16,
   "id": "52d539d5",
   "metadata": {},
   "outputs": [
    {
     "name": "stdout",
     "output_type": "stream",
     "text": [
      "There are lots of ways to create web pages using already coded programmes. These lessons will teach you how to use the underlying HyperText Markup Language -  HTML. \n",
      "\n",
      "HTML isn't computer code, but is a language that uses US English to enable texts (words, images, sounds) to be inserted and formatting such as colo(u)r and centre/ering to be written in. The process is fairly simple; the main difficulties often lie in small mistakes - if you slip up while word processing your reader may pick up your typos, but the page will still be legible. However, if your HTML is inaccurate the page may not appear - writing web pages is, at the least, very good practice for proof reading!\n",
      "Learning HTML will enable you to:\n",
      "\n",
      "A HTML web page is made up of tags. Tags are placed in brackets like this \n",
      " To make a simple web page you need to know only four tags:\n",
      "\n",
      "All these tags need to be closed.\n",
      "\n",
      "\n",
      "Write a simple web page.\n",
      " Copy out exactly the HTML below, using a WP program such as Notepad.\n",
      "\n",
      "< HTML >\n",
      "Save the file as 'first.html' (ie. call the file anything at all) It's useful if you start a folder - just as you would for word-processing - and call it something like WEBPAGES, and put your first.html file in the folder.\n",
      "\n",
      "\n",
      "NOW - open your browser.\n",
      "On Internet Explorer: \n",
      "If the page doesn't open, go back over your notepad typing and make sure that all the HTML tags are correct. Check there are no spaces between tags and internal text; check that all tags are closed; check that you haven't written < HTLM > or < BDDY >.  Your page will work eventually. \n",
      "\n",
      "\n",
      "Make another page. Call it somethingdifferent.html and place it in the same WEBPAGES folder as detailed above.\n",
      "\n",
      "start formatting in \n"
     ]
    }
   ],
   "source": [
    "for p in parrafos:\n",
    "    print(p.contents[0])"
   ]
  },
  {
   "cell_type": "code",
   "execution_count": 22,
   "id": "6868d9c0",
   "metadata": {},
   "outputs": [
    {
     "data": {
      "text/plain": [
       "[<a href=\"webpage2.html\">lesson two</a>,\n",
       " <a href=\"col3.html\">back to wws index</a>]"
      ]
     },
     "execution_count": 22,
     "metadata": {},
     "output_type": "execute_result"
    }
   ],
   "source": [
    "soup.find_all(href=True)"
   ]
  }
 ],
 "metadata": {
  "kernelspec": {
   "display_name": "Python 3",
   "language": "python",
   "name": "python3"
  },
  "language_info": {
   "codemirror_mode": {
    "name": "ipython",
    "version": 3
   },
   "file_extension": ".py",
   "mimetype": "text/x-python",
   "name": "python",
   "nbconvert_exporter": "python",
   "pygments_lexer": "ipython3",
   "version": "3.8.8"
  }
 },
 "nbformat": 4,
 "nbformat_minor": 5
}
